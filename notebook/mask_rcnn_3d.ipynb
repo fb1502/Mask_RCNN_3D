{
  "nbformat": 4,
  "nbformat_minor": 0,
  "metadata": {
    "colab": {
      "name": "mask_rcnn_3d.ipynb",
      "version": "0.3.2",
      "provenance": [],
      "collapsed_sections": []
    },
    "kernelspec": {
      "name": "python3",
      "display_name": "Python 3"
    },
    "accelerator": "GPU"
  },
  "cells": [
    {
      "metadata": {
        "id": "9jLCWzk9dOzr",
        "colab_type": "code",
        "colab": {}
      },
      "cell_type": "code",
      "source": [
        "# 下载git repo\n",
        "!wget https://github.com/fb1502/Mask_RCNN_3D/archive/master.zip\n",
        "\n",
        "# 解压缩\n",
        "!unzip master.zip\n",
        "\n",
        "# 移动到当前目录\n",
        "!mv Mask_RCNN_3D-master/* .\n",
        "\n",
        "# 对视频文件进行处理，将其中的\"movie.mp4\"更改为自己上传视频的文件名\n",
        "import maskrcnn3d\n",
        "task = maskrcnn3d.MRCNN3d('movie.mp4', 'movie_output.avi')\n",
        "task.convert()\n",
        "\n",
        "# 取出音轨\n",
        "!ffmpeg -i movie.mp4 -q:a 0 -map a movie.mp3\n",
        "  \n",
        "# 合并成最终文件movie_final.mkv\n",
        "!ffmpeg -i movie_output.avi -i movie.mp3 -c copy movie_final.mkv"
      ],
      "execution_count": 0,
      "outputs": []
    }
  ]
}